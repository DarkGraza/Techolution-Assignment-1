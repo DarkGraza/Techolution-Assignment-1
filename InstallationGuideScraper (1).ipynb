{
 "cells": [
  {
   "cell_type": "code",
   "execution_count": 1,
   "id": "d1d77fe8-0746-4966-8721-f46ff958010f",
   "metadata": {
    "tags": []
   },
   "outputs": [],
   "source": [
    "# Packges\n",
    "import requests\n",
    "from bs4 import BeautifulSoup"
   ]
  },
  {
   "cell_type": "code",
   "execution_count": 2,
   "id": "83cb7ffb-cd08-4fc6-bb3b-57f689fa068a",
   "metadata": {
    "tags": []
   },
   "outputs": [
    {
     "data": {
      "text/plain": [
       "200"
      ]
     },
     "execution_count": 2,
     "metadata": {},
     "output_type": "execute_result"
    }
   ],
   "source": [
    "# Requesting a html response from the Home page of Installation guide\n",
    "url = 'https://packaging.python.org/en/latest/guides/section-install/'\n",
    "response = requests.get(url)\n",
    "\n",
    "# response check\n",
    "response.status_code"
   ]
  },
  {
   "cell_type": "code",
   "execution_count": 3,
   "id": "507b5554-a082-4d08-a81f-2784e02a0adf",
   "metadata": {
    "tags": []
   },
   "outputs": [
    {
     "data": {
      "text/plain": [
       "['installing-using-pip-and-virtual-environments/',\n",
       " 'installing-using-virtualenv/',\n",
       " 'installing-stand-alone-command-line-tools/',\n",
       " 'installing-using-linux-tools/',\n",
       " 'installing-scientific-packages/']"
      ]
     },
     "execution_count": 3,
     "metadata": {},
     "output_type": "execute_result"
    }
   ],
   "source": [
    "# Extracting links from Homepage and storing them as a list\n",
    "soup = BeautifulSoup(response.content, 'lxml' )\n",
    "ins = soup.find(id='installation')\n",
    "ul = ins.find('ul')\n",
    "a_tags = ul.find_all('a')\n",
    "pages=[]\n",
    "for a_tag in a_tags:\n",
    "    page = a_tag.get('href')\n",
    "    pages.append(page)\n",
    "    \n",
    "links = [link[link.find('installing'):] for link in pages]\n",
    "links"
   ]
  },
  {
   "cell_type": "code",
   "execution_count": 10,
   "id": "6435c456-a7d5-4d24-946b-60b38d94be65",
   "metadata": {
    "tags": []
   },
   "outputs": [
    {
     "name": "stdout",
     "output_type": "stream",
     "text": [
      "['\\nHeading: Create and Use Virtual Environments.\\n', 'Sub-Heading: Create a new virtual environment.\\n', 'Code: python3 -m venv .venv\\n\\n\\n', 'Sub-Heading: Activate a virtual environment.\\n', 'Code: source .venv/bin/activate\\n\\n\\n', 'Code: which python\\n\\n\\n', 'Code: .venv/bin/python\\n\\n\\n', 'Sub-Heading: Deactivate a virtual environment.\\n', 'Code: deactivate\\n\\n\\n', 'Sub-Heading: Reactivate a virtual environment.\\n', '\\nHeading: Prepare pip.\\n', 'Code: python3 -m pip install --upgrade pip\\npython3 -m pip --version\\n\\n\\n', '\\nHeading: Install packages using pip.\\n', 'Sub-Heading: Install a package.\\n', 'Code: python3 -m pip install requests\\n\\n\\n', 'Sub-Heading: Install a specific package version.\\n', \"Code: python3 -m pip install 'requests==2.18.4'\\n\\n\\n\", \"Code: python3 -m pip install 'requests>=2.0.0,<3.0.0'\\n\\n\\n\", 'Code: python3 -m pip install --pre requests\\n\\n\\n', 'Sub-Heading: Install extras.\\n', \"Code: python3 -m pip install 'requests[security]'\\n\\n\\n\", 'Sub-Heading: Install a package from source.\\n', 'Code: cd google-auth\\npython3 -m pip install .\\n\\n\\n', 'Code: python3 -m pip install --editable .\\n\\n\\n', 'Sub-Heading: Install from version control systems.\\n', 'Code: google-auth @ git+https://github.com/GoogleCloudPlatform/google-auth-library-python.git\\n\\n\\n', 'Sub-Heading: Install from local archives.\\n', 'Code: python3 -m pip install requests-2.18.4.tar.gz\\n\\n\\n', 'Code: python3 -m pip install --no-index --find-links=/local/dir/ requests\\n\\n\\n', 'Sub-Heading: Install from other package indexes.\\n', 'Code: python3 -m pip install --index-url http://index.example.com/simple/ SomeProject\\n\\n\\n', 'Code: python3 -m pip install --extra-index-url http://index.example.com/simple/ SomeProject\\n\\n\\n', '\\nHeading: Upgrading packages.\\n', 'Code: python3 -m pip install --upgrade requests\\n\\n\\n', '\\nHeading: Using a requirements file.\\n', 'Code: python3 -m pip install -r requirements.txt\\n\\n\\n', '\\nHeading: Freezing dependencies.\\n', 'Code: python3 -m pip freeze\\n\\n\\n']\n",
      "['Heading: Installing packages using virtualenv\\n']\n",
      "['Heading: Installing stand alone command line tools\\n', 'Code: python3 -m pip install --user pipx\\npython3 -m pipx ensurepath\\n\\n\\n', 'Code: pipx upgrade PACKAGE\\npipx uninstall PACKAGE\\n\\n\\n', 'Code: python3 -m pip install --upgrade pipx\\npython3 -m pip uninstall pipx\\n\\n\\n', 'Code: pipx run cowsay -t moooo\\n\\n\\n', 'Code: pipx --help\\n\\n\\n']\n",
      "['\\nHeading: Fedora.\\n', 'Code: sudo dnf install python3-pip python3-wheel\\n\\n\\n', '\\nHeading: CentOS/RHEL.\\n', 'Code: sudo dnf install python3-pip python3-wheel\\n\\n\\n', 'Code: sudo dnf install python3-pip python3-wheel\\n\\n\\n', 'Code: sudo dnf upgrade python3-setuptools\\n\\n\\n', 'Code: sudo yum install python34u python34u-wheel\\n\\n\\n', '\\nHeading: openSUSE.\\n', 'Code: sudo zypper install python3-pip python3-setuptools python3-wheel\\n\\n\\n', '\\nHeading: Debian/Ubuntu and derivatives.\\n', 'Code: sudo apt update\\nsudo apt install python3-venv python3-pip\\n\\n\\n', '\\nHeading: Arch Linux.\\n', 'Code: sudo pacman -S python-pip\\n\\n\\n']\n",
      "['\\nHeading: Building from source.\\n', '\\nHeading: Linux distribution packages.\\n', '\\nHeading: Windows installers.\\n', '\\nHeading: macOS installers and package managers.\\n', '\\nHeading: SciPy distributions.\\n', '\\nHeading: Spack.\\n', '\\nHeading: The conda cross-platform package manager.\\n']\n"
     ]
    }
   ],
   "source": [
    "# Looping through each page\n",
    "i=0\n",
    "for link in links:\n",
    "    i += 1\n",
    "    steps=[]\n",
    "    url = f\"https://packaging.python.org/en/latest/guides/{link}\" \n",
    "    res = requests.get(url)\n",
    "    soup = BeautifulSoup(res.content, 'lxml')\n",
    "    \n",
    "    # Grabbing main html containing all the necessary tags\n",
    "    main_sec = soup.select_one('section')\n",
    "    sections = main_sec.select('section')\n",
    "    \n",
    "    \n",
    "    # Function to store data in a list\n",
    "    def store(s):\n",
    "        steps.append(s + '\\n')\n",
    "\n",
    "        \n",
    "    # Function to check whether the neccessary code block exists\n",
    "    def code_parse(codes):\n",
    "        if(codes!=[]):\n",
    "            for code in codes:\n",
    "                c = f\"Code: {code.text}\"\n",
    "                store(c)\n",
    "        else:\n",
    "            pass\n",
    "        \n",
    "        \n",
    "    # Function traversing the html tree for Headings and Sub_headings\n",
    "    '''\n",
    "    Logic Steps:-\n",
    "    1) fn checks for Heading\n",
    "    2) fn checks for further child sections if not found checks for code block\n",
    "    3) fn checks for Sub-Heading\n",
    "    4) fn checks for code again\n",
    "    '''\n",
    "    def h_tags(h):\n",
    "        h2 = h.select_one('h2')\n",
    "        if(h2):\n",
    "            s2 = f\"\\nHeading: {h2.text.rstrip('#')}.\"\n",
    "            store(s2)            \n",
    "            sections = h.select('section')\n",
    "            if(sections!=[]):\n",
    "                for section in sections:\n",
    "                    h3 = section.select_one('h3')\n",
    "                    if(h3):\n",
    "                        s3=f\"Sub-Heading: {h3.text.rstrip('#')}.\"\n",
    "                        store(s3)\n",
    "                        c = section.find_all('div', class_='highlight-bash notranslate')\n",
    "                        code_parse(c)\n",
    "            else:\n",
    "                c = h.find_all('div', class_='highlight-bash notranslate')\n",
    "                code_parse(c) \n",
    "\n",
    "        \n",
    "            \n",
    "\n",
    "\n",
    "    # Looping through primary sections in the tree if it consists more than one \n",
    "    if(len(sections)>1):\n",
    "        for section in sections:\n",
    "            h_tags(section)\n",
    "    else:\n",
    "        h1 = main_sec.select_one('h1')\n",
    "        head = f\"Heading: {h1.text.rstrip('#')}\"\n",
    "        store(head)\n",
    "        h1_code = main_sec.find_all('div', class_='highlight-bash notranslate')\n",
    "        code_parse(h1_code)\n",
    "\n",
    "\n",
    "        \n",
    "    print(steps)\n",
    "    filename = f'Step{i}.csv'\n",
    "\n",
    "# Writing each step of installation guide into separate files according to their respective position at home page\n",
    "    with open(filename, 'w') as f:\n",
    "        for step in steps:\n",
    "            f.write(step + '\\n')"
   ]
  },
  {
   "cell_type": "code",
   "execution_count": null,
   "id": "bc37028c-d42a-4f57-90ec-ab1a661c45cb",
   "metadata": {},
   "outputs": [],
   "source": []
  },
  {
   "cell_type": "code",
   "execution_count": null,
   "id": "7161a863-21ed-457c-9679-54b0ecbe8e94",
   "metadata": {},
   "outputs": [],
   "source": []
  }
 ],
 "metadata": {
  "kernelspec": {
   "display_name": "jvenv",
   "language": "python",
   "name": "jvenv"
  },
  "language_info": {
   "codemirror_mode": {
    "name": "ipython",
    "version": 3
   },
   "file_extension": ".py",
   "mimetype": "text/x-python",
   "name": "python",
   "nbconvert_exporter": "python",
   "pygments_lexer": "ipython3",
   "version": "3.11.5"
  }
 },
 "nbformat": 4,
 "nbformat_minor": 5
}
